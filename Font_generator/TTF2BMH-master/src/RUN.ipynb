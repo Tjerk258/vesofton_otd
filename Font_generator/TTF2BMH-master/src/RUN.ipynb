{
 "cells": [
  {
   "cell_type": "code",
   "execution_count": null,
   "metadata": {
    "collapsed": true
   },
   "outputs": [],
   "source": [
    "# Bitmap Font to C bitmap header file converter for dot based displays\n",
    "# Copyright(c) 2019 JD Morise, jdmorise@yahoo.com\n",
    "\n",
    "#------------------------------------------------------------------------\n",
    "#    This program is free software: you can redistribute it and/or modify\n",
    "#    it under the terms of the GNU General Public License as published by\n",
    "#    the Free Software Foundation, either version 3 of the License, or\n",
    "#    (at your option) any later version.\n",
    "#\n",
    "#    This program is distributed in the hope that it will be useful,\n",
    "#    but WITHOUT ANY WARRANTY; without even the implied warranty of\n",
    "#    MERCHANTABILITY or FITNESS FOR A PARTICULAR PURPOSE.  See the\n",
    "#    GNU General Public License for more details.#\n",
    "#\n",
    "#    You should have received a copy of the GNU General Public License\n",
    "#    along with this program.  If not, see <https://www.gnu.org/licenses/>.\n",
    "#------------------------------------------------------------------------\n"
   ]
  },
  {
   "cell_type": "code",
   "execution_count": 30,
   "metadata": {
    "collapsed": false
   },
   "outputs": [
    {
     "name": "stdout",
     "output_type": "stream",
     "text": [
      "-------------------------------------------------------------------------\n",
      " \n",
      " (C) 2019, jdmorise@yahoo.com\n",
      " \n",
      " This program is free software: you can redistribute it and/or modify\n",
      " it under the terms of the GNU General Public License as published by\n",
      " the Free Software Foundation, either version 3 of the License, or\n",
      " (at your option) any later version.\n",
      " \n",
      " This program is distributed in the hope that it will be useful,\n",
      " but WITHOUT ANY WARRANTY; without even the implied warranty of\n",
      " MERCHANTABILITY or FITNESS FOR A PARTICULAR PURPOSE.  See the\n",
      " GNU General Public License for more details.\n",
      " \n",
      " You should have received a copy of the GNU General Public License\n",
      " along with this program.  If not, see <https://www.gnu.org/licenses/>\n",
      " \n",
      "-------------------------------------------------------------------------\n"
     ]
    }
   ],
   "source": [
    "%run ./ttf2bmh_digits_file.py -l "
   ]
  },
  {
   "cell_type": "code",
   "execution_count": 2,
   "metadata": {
    "collapsed": false
   },
   "outputs": [
    {
     "name": "stdout",
     "output_type": "stream",
     "text": [
      "-------------------------------------------------------------------------\n",
      " TTF2BMH Version 2.0 (C) 2019, jdmorise@yahoo.com\n",
      " \n",
      " A conversion tool for Truetype Fonts to bitmap C header files \n",
      " for any character for use with monochrome LCD or OLED displays \n",
      " \n",
      "-------------------------------------------------------------------------\n",
      "usage: ttf2bmh.py [-h] [-l] [-f TTF_FOLDER] [-o OUTPUT_FOLDER]\n",
      "                  [-c CHARACTER_FILENAME] [--font FONT]\n",
      "                  [-s {24,32,40,48,56,64,all}] [--variable_width] [--progmem]\n",
      "                  [-p]\n",
      "\n",
      "optional arguments:\n",
      "  -h, --help            show this help message and exit\n",
      "  -l, --license         show license terms\n",
      "  -f TTF_FOLDER, --ttf_folder TTF_FOLDER\n",
      "                        Folder where ttf files are stored\n",
      "  -o OUTPUT_FOLDER, --output_folder OUTPUT_FOLDER\n",
      "                        Folder where bitmapheader output files will be stored.\n",
      "                        A subfolder for each Font will be created under the\n",
      "                        directory.\n",
      "  -c CHARACTER_FILENAME, --character_filename CHARACTER_FILENAME\n",
      "                        filename for characters to be processed\n",
      "  --font FONT           Define Font Name to be processed. Name should include\n",
      "                        modifier like Bold or Italic. If none is given, all\n",
      "                        fonts in folder will be processed.\n",
      "  -s {24,32,40,48,56,64,all}, --fontsize {24,32,40,48,56,64,all}\n",
      "                        Fontsize (Fontheight) in pixels. Default: 32\n",
      "  --variable_width      Variable width of characters.\n",
      "  --progmem             C Variable declaration adds PROGMEM to character\n",
      "                        arrays. Useful to store the characters in porgram\n",
      "                        memory for AVR Microcontrollers with limited Flash or\n",
      "                        EEprom\n",
      "  -p, --print_ascii     Print each character as ASCII Art on commandline, for\n",
      "                        debugging\n"
     ]
    }
   ],
   "source": [
    "%run ./ttf2bmh.py"
   ]
  },
  {
   "cell_type": "code",
   "execution_count": 10,
   "metadata": {
    "collapsed": false
   },
   "outputs": [
    {
     "name": "stdout",
     "output_type": "stream",
     "text": [
      "-------------------------------------------------------------------------\n",
      " TTF2BMH Version 2.0 (C) 2019, jdmorise@yahoo.com\n",
      " \n",
      " A conversion tool for Truetype Fonts to bitmap C header files \n",
      " for any character for use with monochrome LCD or OLED displays \n",
      " \n",
      "-------------------------------------------------------------------------\n",
      "Courier New_32.h written\n",
      "-------------------------------------------------------------------------\n",
      "TTF2BMH Finished\n"
     ]
    }
   ],
   "source": [
    "%run ./ttf2bmh.py -s 32 -c ../characters_digits.txt --progmem --font \"Courier New\" --variable_width "
   ]
  },
  {
   "cell_type": "code",
   "execution_count": 1,
   "metadata": {
    "collapsed": false
   },
   "outputs": [
    {
     "name": "stdout",
     "output_type": "stream",
     "text": [
      "-------------------------------------------------------------------------\n",
      " TTF2BMH Version 2.0 (C) 2019, jdmorise@yahoo.com\n",
      " \n",
      " A conversion tool for Truetype Fonts to bitmap C header files \n",
      " for any character for use with monochrome LCD or OLED displays \n",
      " \n",
      "-------------------------------------------------------------------------\n",
      "Liberation Sans_24.h written\n",
      "Liberation Sans_32.h written\n",
      "Liberation Sans_40.h written\n",
      "Liberation Sans_48.h written\n",
      "Liberation Sans_56.h written\n",
      "Liberation Sans_64.h written\n",
      "-------------------------------------------------------------------------\n",
      "TTF2BMH Finished\n"
     ]
    }
   ],
   "source": [
    "%run ./ttf2bmh.py -s all -c ../characters_digits.txt --progmem -f ../ttf_fonts/liberation-fonts-ttf/ --font \"Liberation Sans\" --variable_width"
   ]
  },
  {
   "cell_type": "code",
   "execution_count": null,
   "metadata": {
    "collapsed": true
   },
   "outputs": [],
   "source": []
  }
 ],
 "metadata": {
  "kernelspec": {
   "display_name": "Python 3",
   "language": "python",
   "name": "python3"
  },
  "language_info": {
   "codemirror_mode": {
    "name": "ipython",
    "version": 3
   },
   "file_extension": ".py",
   "mimetype": "text/x-python",
   "name": "python",
   "nbconvert_exporter": "python",
   "pygments_lexer": "ipython3",
   "version": "3.5.1"
  }
 },
 "nbformat": 4,
 "nbformat_minor": 0
}
